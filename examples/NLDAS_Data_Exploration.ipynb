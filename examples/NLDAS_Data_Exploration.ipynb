{
 "cells": [
  {
   "cell_type": "markdown",
   "metadata": {},
   "source": [
    "# NLDAS Data Exploration\n",
    "\n",
    "This notebook accomplishes the following:\n",
    "\n",
    "- Downloads data file(s) from NASA\n",
    "- Show attribute statistics and visualizations\n",
    "- Do viz-related data cleaning\n",
    "- Show (corrected) attribute statistics and visualizations\n",
    "\n",
    "### Setup Instructions:\n",
    "1. Create *.netrc* file in home dir according to [GES DISC site instructions](https://disc.gsfc.nasa.gov/information/howto?title=How%20to%20Download%20Data%20Files%20from%20HTTP%20Service%20with%20wget)\n",
    "2. Create environment, install notebook pkgs, enable extension:\n",
    "```\n",
    "conda env create -n elm python=2.7\n", # 2.7 needed for pynio
    "source activate elm\n",
    "conda install -c conda-forge pycurl lxml holoviews\n",
    "jupyter nbextension enable --py widgetsnbextension # This should report \"OK\"\n",
    "```"
   ]
  },
  {
   "cell_type": "code",
   "execution_count": null,
   "metadata": {},
   "outputs": [],
   "source": [
    "from __future__ import absolute_import, division, print_function, unicode_literals\n",
    "\n",
    "import gc\n",
    "import os\n",
    "import getpass\n",
    "\n",
    "import six\n",
    "import holoviews as hv\n",
    "import numpy as np\n",
    "import pandas as pd\n",
    "import xarray as xr\n",
    "from example_utils import GRBSelector, get_metadata, dl_file\n",
    "\n",
    "hv.notebook_extension('bokeh')\n",
    "%matplotlib inline"
   ]
  },
  {
   "cell_type": "markdown",
   "metadata": {},
   "source": [
    "## Download NLDAS GRIB file\n",
    "\n",
    "This persists the file to disk, then loads the data into RAM as an xarray Dataset object."
   ]
  },
  {
   "cell_type": "code",
   "execution_count": null,
   "metadata": {},
   "outputs": [],
   "source": [
    "selector = GRBSelector()\n",
    "selector"
   ]
  },
  {
   "cell_type": "code",
   "execution_count": null,
   "metadata": {},
   "outputs": [],
   "source": [
    "selector.selected_url"
   ]
  },
  {
   "cell_type": "code",
   "execution_count": null,
   "metadata": {},
   "outputs": [],
   "source": [
    "data_fpath = dl_file(selector.selected_url)\n",
    "ds = xr.open_dataset(data_fpath, engine='pynio')\n",
    "ds"
   ]
  },
  {
   "cell_type": "markdown",
   "metadata": {},
   "source": [
    "### Attributes alongside their descriptions"
   ]
  },
  {
   "cell_type": "code",
   "execution_count": null,
   "metadata": {},
   "outputs": [],
   "source": [
    "info = []\n",
    "for k in ds.data_vars:\n",
    "    raster = ds[k]\n",
    "    about = (k, raster.long_name, raster.units, raster.initial_time)\n",
    "    about_raster = '{:<20} {} ({}) - {}'.format(*about)\n",
    "    info.append(about_raster)\n",
    "print('Rasters in {}\\n'.format(os.path.basename(data_fpath)), '\\n  '.join(info), sep='\\n  ')"
   ]
  },
  {
   "cell_type": "code",
   "execution_count": null,
   "metadata": {},
   "outputs": [],
   "source": [
    "raster"
   ]
  },
  {
   "cell_type": "markdown",
   "metadata": {},
   "source": [
    "## Statistics and visualizations\n",
    "\n",
    "Below we show the data as-is."
   ]
  },
  {
   "cell_type": "code",
   "execution_count": null,
   "metadata": {},
   "outputs": [],
   "source": [
    "ds.to_dataframe().describe(percentiles=(0.025, 0.05, 0.25, 0.5, 0.75, 0.95, 0.975))"
   ]
  },
  {
   "cell_type": "code",
   "execution_count": null,
   "metadata": {},
   "outputs": [],
   "source": [
    "%opts Image RGB [width=300 height=200]\n",
    "hvds = hv.Dataset(ds)\n",
    "imgs = [hvds.to(hv.Image, ['lon_110', 'lat_110'], var).relabel(var) for var in ds.data_vars]\n",
    "hv.Layout(imgs)"
   ]
  },
  {
   "cell_type": "markdown",
   "metadata": {},
   "source": [
    "## Viz-related data cleaning\n",
    "\n",
    "Noticing that -9999 seems to confuse the visualizations, we replace -9999 values with 0."
   ]
  },
  {
   "cell_type": "code",
   "execution_count": null,
   "metadata": {},
   "outputs": [],
   "source": [
    "def set_to_na(da):\n",
    "    da.values[np.isclose(da.values, -9999.)] = 0\n",
    "ds.apply(set_to_na)\n",
    "ds.to_dataframe().describe(percentiles=(0.025, 0.05, 0.25, 0.5, 0.75, 0.95, 0.975))"
   ]
  },
  {
   "cell_type": "markdown",
   "metadata": {},
   "source": [
    "## Corrected visualizations"
   ]
  },
  {
   "cell_type": "code",
   "execution_count": null,
   "metadata": {},
   "outputs": [],
   "source": [
    "hvds = hv.Dataset(ds)\n",
    "imgs = [hvds.to(hv.Image, ['lon_110', 'lat_110'], var, group='('+ds[var].long_name+')').relabel(var) for var in ds.data_vars]\n",
    "hv.Layout(imgs)"
   ]
  },
  {
   "cell_type": "code",
   "execution_count": null,
   "metadata": {},
   "outputs": [],
   "source": []
  }
 ],
 "metadata": {
  "kernelspec": {
   "display_name": "Python 2",
   "language": "python",
   "name": "python2"
  },
  "language_info": {
   "codemirror_mode": {
    "name": "ipython",
    "version": 2
   },
   "file_extension": ".py",
   "mimetype": "text/x-python",
   "name": "python",
   "nbconvert_exporter": "python",
   "pygments_lexer": "ipython2",
   "version": "2.7.14"
  }
 },
 "nbformat": 4,
 "nbformat_minor": 2
}
