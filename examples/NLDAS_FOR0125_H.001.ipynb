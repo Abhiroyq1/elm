{
 "cells": [
  {
   "cell_type": "markdown",
   "metadata": {},
   "source": [
    "# NLDAS_FOR0125_H.001\n",
    "\n",
    "This notebook accomplishes the following:\n",
    "\n",
    "- Downloads data file(s) from NASA\n",
    "- Shows statistics and visualizations of the attributes\n",
    "\n",
    "Required libraries:\n",
    "- `pynio`, for opening GRIB files (requires Python 2)\n",
    "- `pydap`, for accessing files hosted on gesdisc.eosdis.nasa.gov server\n",
    "- `holoviews`, for data viz"
   ]
  },
  {
   "cell_type": "code",
   "execution_count": null,
   "metadata": {},
   "outputs": [],
   "source": [
    "!conda create -n nldas_py27 -c conda-forge -c  elm -c elm/label/dev -c ioam -c ncar pynio elm earthio pydap"
   ]
  },
  {
   "cell_type": "code",
   "execution_count": null,
   "metadata": {},
   "outputs": [],
   "source": [
    "from __future__ import absolute_import, division, print_function, unicode_literals\n",
    "import xarray as xr\n",
    "import requests\n",
    "import os\n",
    "import six\n",
    "from six.moves.urllib.parse import urljoin, urlparse\n",
    "from pydap.cas.urs import setup_session\n",
    "import gc\n",
    "import holoviews as hv\n",
    "import getpass\n",
    "\n",
    "hv.notebook_extension('bokeh')\n",
    "%matplotlib inline"
   ]
  },
  {
   "cell_type": "code",
   "execution_count": null,
   "metadata": {},
   "outputs": [],
   "source": [
    "url = 'https://hydro1.gesdisc.eosdis.nasa.gov/data/NLDAS/NLDAS_FOR0125_H.001/2007/365/NLDAS_FOR0125_H.A20071231.2300.001.grb'\n",
    "\n",
    "session = setup_session(os.environ.get('NLDAS_USERNAME', raw_input('NLDAS Username: ')),\n",
    "                        os.environ.get('NLDAS_PASSWORD', getpass.getpass('Password: ')))\n",
    "resp = session.get(url)\n",
    "data_fpath = urlparse(url).path.lstrip(os.sep)\n",
    "data_dpath = os.path.dirname(data_fpath)\n",
    "if not os.path.isdir(data_dpath):\n",
    "    os.makedirs(data_dpath)\n",
    "with open(data_fpath, 'w') as outfp:\n",
    "    outfp.write(resp.content)\n",
    "gc.collect()\n",
    "ds = xr.open_dataset(data_fpath, engine='pynio')\n",
    "ds"
   ]
  },
  {
   "cell_type": "code",
   "execution_count": null,
   "metadata": {},
   "outputs": [],
   "source": [
    "ds.to_dataframe().describe()"
   ]
  },
  {
   "cell_type": "code",
   "execution_count": null,
   "metadata": {},
   "outputs": [],
   "source": [
    "%opts Image RGB [width=600 height=400]\n",
    "hvds = hv.Dataset(ds)\n",
    "imgs = [hvds.to(hv.Image, ['lon_110', 'lat_110'], var).relabel(var)\n",
    "        for var in filter(lambda x: 'lat' not in x and 'lon' not in x, ds.variables.keys())]\n",
    "imgs"
   ]
  },
  {
   "cell_type": "code",
   "execution_count": null,
   "metadata": {},
   "outputs": [],
   "source": [
    "imgs[0]"
   ]
  },
  {
   "cell_type": "code",
   "execution_count": null,
   "metadata": {},
   "outputs": [],
   "source": [
    "imgs[1]"
   ]
  },
  {
   "cell_type": "code",
   "execution_count": null,
   "metadata": {},
   "outputs": [],
   "source": [
    "imgs[2]"
   ]
  },
  {
   "cell_type": "code",
   "execution_count": null,
   "metadata": {},
   "outputs": [],
   "source": [
    "imgs[3]"
   ]
  },
  {
   "cell_type": "code",
   "execution_count": null,
   "metadata": {},
   "outputs": [],
   "source": [
    "imgs[4]"
   ]
  },
  {
   "cell_type": "code",
   "execution_count": null,
   "metadata": {},
   "outputs": [],
   "source": [
    "imgs[5]"
   ]
  },
  {
   "cell_type": "code",
   "execution_count": null,
   "metadata": {},
   "outputs": [],
   "source": [
    "imgs[6]"
   ]
  },
  {
   "cell_type": "code",
   "execution_count": null,
   "metadata": {},
   "outputs": [],
   "source": [
    "imgs[7]"
   ]
  },
  {
   "cell_type": "code",
   "execution_count": null,
   "metadata": {},
   "outputs": [],
   "source": [
    "imgs[8]"
   ]
  },
  {
   "cell_type": "code",
   "execution_count": null,
   "metadata": {},
   "outputs": [],
   "source": [
    "imgs[9]"
   ]
  },
  {
   "cell_type": "code",
   "execution_count": null,
   "metadata": {},
   "outputs": [],
   "source": [
    "imgs[10]"
   ]
  },
  {
   "cell_type": "code",
   "execution_count": null,
   "metadata": {},
   "outputs": [],
   "source": [
    "imgs[11]"
   ]
  },
  {
   "cell_type": "code",
   "execution_count": null,
   "metadata": {},
   "outputs": [],
   "source": [
    "imgs[12]"
   ]
  },
  {
   "cell_type": "code",
   "execution_count": null,
   "metadata": {},
   "outputs": [],
   "source": [
    "imgs[13]"
   ]
  },
  {
   "cell_type": "code",
   "execution_count": null,
   "metadata": {},
   "outputs": [],
   "source": [
    "imgs[14]"
   ]
  }
 ],
 "metadata": {
  "kernelspec": {
   "display_name": "Python 2",
   "language": "python",
   "name": "python2"
  },
  "language_info": {
   "codemirror_mode": {
    "name": "ipython",
    "version": 2
   },
   "file_extension": ".py",
   "mimetype": "text/x-python",
   "name": "python",
   "nbconvert_exporter": "python",
   "pygments_lexer": "ipython2",
   "version": "2.7.13"
  }
 },
 "nbformat": 4,
 "nbformat_minor": 2
}
