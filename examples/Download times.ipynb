{
 "cells": [
  {
   "cell_type": "markdown",
   "metadata": {},
   "source": [
    "# Download times\n",
    "Benchmarking download times when using different methods for NASA's data server(s)."
   ]
  },
  {
   "cell_type": "code",
   "execution_count": 13,
   "metadata": {
    "collapsed": true
   },
   "outputs": [],
   "source": [
    "import os\n",
    "import getpass\n",
    "import socket\n",
    "from io import BytesIO\n",
    "\n",
    "import requests\n",
    "import pycurl\n",
    "from pydap.cas.urs import setup_session"
   ]
  },
  {
   "cell_type": "markdown",
   "metadata": {},
   "source": [
    "## Setting up session, .netrc, etc\n",
    "\n",
    "Set up the PyDAP session, and write a .netrc into current user's HOME directory."
   ]
  },
  {
   "cell_type": "code",
   "execution_count": 14,
   "metadata": {},
   "outputs": [
    {
     "name": "stdout",
     "output_type": "stream",
     "text": [
      "NLDAS Username: nasa_sbir\n",
      "Password: ········\n",
      "CPU times: user 59.7 ms, sys: 8.63 ms, total: 68.3 ms\n",
      "Wall time: 1.94 s\n"
     ]
    }
   ],
   "source": [
    "baseurl = 'https://hydro1.gesdisc.eosdis.nasa.gov/data/NLDAS/'\n",
    "\n",
    "#print 'IP:', socket.gethostbyname(socket.gethostname())\n",
    "\n",
    "username = os.environ.get('NLDAS_USERNAME', raw_input('NLDAS Username: '))\n",
    "passwd = os.environ.get('NLDAS_PASSWORD', getpass.getpass('Password: '))\n",
    "\n",
    "netrc_fpath = os.path.join(os.environ['HOME'], '.netrc')\n",
    "if not os.path.isfile(netrc_fpath):\n",
    "    with open(netrc_fpath, 'w') as fp:\n",
    "        fp.write('machine urs.earthdata.nasa.gov login {} password {}'.format(username, passwd))\n",
    "    os.chmod(netrc_fpath, 0o600)\n",
    "\n",
    "%time session = setup_session(username, passwd)"
   ]
  },
  {
   "cell_type": "code",
   "execution_count": 20,
   "metadata": {},
   "outputs": [
    {
     "ename": "SyntaxError",
     "evalue": "invalid syntax (<ipython-input-20-cea5e9482c6e>, line 1)",
     "output_type": "error",
     "traceback": [
      "\u001b[0;36m  File \u001b[0;32m\"<ipython-input-20-cea5e9482c6e>\"\u001b[0;36m, line \u001b[0;32m1\u001b[0m\n\u001b[0;31m    print len('session.get(https://hydro1.gesdisc.eosdis.nasa.gov/data/NLDAS/NLDAS_FORA0125_M.002/1983/NLDAS_FORA0125_M.A198305.002.grb').content)\u001b[0m\n\u001b[0m                                                                                                                                                 ^\u001b[0m\n\u001b[0;31mSyntaxError\u001b[0m\u001b[0;31m:\u001b[0m invalid syntax\n"
     ]
    }
   ],
   "source": [
    "print session.get('https://hydro1.gesdisc.eosdis.nasa.gov/data/NLDAS/NLDAS_FORA0125_M.002/1983/NLDAS_FORA0125_M.A198305.002.grb_"
   ]
  },
  {
   "cell_type": "code",
   "execution_count": 16,
   "metadata": {},
   "outputs": [
    {
     "name": "stdout",
     "output_type": "stream",
     "text": [
      "7508\n",
      "CPU times: user 17.8 ms, sys: 3.24 ms, total: 21 ms\n",
      "Wall time: 427 ms\n"
     ]
    }
   ],
   "source": [
    "%time print len(requests.get(baseurl).text)"
   ]
  },
  {
   "cell_type": "code",
   "execution_count": 17,
   "metadata": {},
   "outputs": [
    {
     "name": "stdout",
     "output_type": "stream",
     "text": [
      "7508\n",
      "7508\n",
      "7508\n",
      "7508\n",
      "1 loop, best of 3: 475 ms per loop\n"
     ]
    }
   ],
   "source": [
    "%%timeit\n",
    "buffer = BytesIO()\n",
    "c = pycurl.Curl()\n",
    "c.setopt(c.URL, baseurl)\n",
    "c.setopt(c.WRITEDATA, buffer)\n",
    "c.perform()\n",
    "c.close()\n",
    "print len(buffer.getvalue())"
   ]
  },
  {
   "cell_type": "code",
   "execution_count": null,
   "metadata": {
    "collapsed": true
   },
   "outputs": [],
   "source": []
  },
  {
   "cell_type": "code",
   "execution_count": null,
   "metadata": {
    "collapsed": true
   },
   "outputs": [],
   "source": []
  }
 ],
 "metadata": {
  "kernelspec": {
   "display_name": "Python 2",
   "language": "python",
   "name": "python2"
  },
  "language_info": {
   "codemirror_mode": {
    "name": "ipython",
    "version": 2
   },
   "file_extension": ".py",
   "mimetype": "text/x-python",
   "name": "python",
   "nbconvert_exporter": "python",
   "pygments_lexer": "ipython2",
   "version": "2.7.13"
  }
 },
 "nbformat": 4,
 "nbformat_minor": 2
}
